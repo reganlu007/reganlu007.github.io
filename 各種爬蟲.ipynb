{
 "cells": [
  {
   "cell_type": "markdown",
   "metadata": {},
   "source": [
    "# 單頁爬蟲"
   ]
  },
  {
   "cell_type": "code",
   "execution_count": null,
   "metadata": {
    "scrolled": true
   },
   "outputs": [],
   "source": [
    "import requests\n",
    "from bs4 import BeautifulSoup as bs\n",
    "\n",
    "r    = requests.get(\"https://www.ptt.cc/bbs/koei/index.html\") #將網頁資料GET下來\n",
    "soup = bs(r.text) #將網頁資料以 html.parser\n",
    "sel  = soup.select(\"div.title a\") #取HTML標中的 <div class=\"title\"></div> 中的<a>標籤存入sel\n",
    "for s in sel: print(\"https://www.ptt.cc\"+s[\"href\"], s.text) #印出網址跟標題"
   ]
  },
  {
   "cell_type": "markdown",
   "metadata": {},
   "source": [
    "# 跨頁爬蟲\n",
    "## 最後一行縮排之後，即可多頁爬蟲"
   ]
  },
  {
   "cell_type": "code",
   "execution_count": null,
   "metadata": {},
   "outputs": [],
   "source": [
    "import requests\n",
    "from bs4 import BeautifulSoup as bs\n",
    "url = \"https://www.ptt.cc/bbs/koei/index.html\"\n",
    "for i in range(3): #往上爬3頁\n",
    "    r    = requests.get(url)\n",
    "    soup = bs(r.text)\n",
    "    sel  = soup.select(\"div.title a\") #標題\n",
    "    u    = soup.select(\"div.btn-group.btn-group-paging a\") #a標籤\n",
    "    print (\"本頁的 URL 為 \"+url)\n",
    "    url  = \"https://www.ptt.cc\"+ u[1][\"href\"] #上一頁的網址\n",
    "for s in sel: print(\"https://www.ptt.cc\"+s[\"href\"], s.text) #印出網址跟標題"
   ]
  },
  {
   "cell_type": "markdown",
   "metadata": {},
   "source": [
    "# researchgate 爬蟲 & 寫入 excel"
   ]
  },
  {
   "cell_type": "code",
   "execution_count": 26,
   "metadata": {},
   "outputs": [
    {
     "name": "stdout",
     "output_type": "stream",
     "text": [
      "Wall time: 6.99 s\n"
     ]
    }
   ],
   "source": [
    "%%time\n",
    "import requests,xlsxwriter\n",
    "from bs4 import BeautifulSoup as bs\n",
    "\n",
    "# Login researchgate\n",
    "url = 'https://www.researchgate.net/application.Login.html'\n",
    "session = requests.Session()\n",
    "session.post(url,data = {\n",
    "            'request_token':bs(session.get(url).text).form.find(\"input\",{\"name\":\"request_token\"}).attrs[\"value\"],\n",
    "            'login'   :'reganlu007@ntu.edu.tw', # Username\n",
    "            'password':'fbqh1520e',             # Password\n",
    "            'setLoginCookie':'yes'})            # Save log cookie\n",
    "\n",
    "name = 'Francis_Narin'\n",
    "url  = 'https://www.researchgate.net/profile/'+ name # Search 'Francis_Narin'\n",
    "soup = bs(session.get(url).text)\n",
    "\n",
    "# Create/Open Research_Gate_Result.xlsx\n",
    "workbook  = xlsxwriter.Workbook('Research_Gate_Result.xlsx',{'strings_to_numbers': True})\n",
    "\n",
    "# Overview: Introduction, Stats overview, Affiliation, Network, Top co-authors, Research overview\n",
    "Overview = soup.findAll(True,{'nova-e-text nova-e-text--size-l nova-e-text--family-sans-serif nova-e-text--spacing-none nova-e-text--color-grey-600'})\n",
    "\n",
    "# Sheet 1: Info\n",
    "worksheet = workbook.add_worksheet('Info')\n",
    "val = ['Name','Item','Key','Value']\n",
    "for i in range(len(val)): worksheet.write(0,i,val[i],workbook.add_format({'bold':True,'center_across':True}))\n",
    "val = [ name ,Overview[0].text,'RG Score',soup.findAll(True,{'nova-e-list__item'})[0].text]\n",
    "for i in range(len(val)): worksheet.write(1,i,val[i])\n",
    "curr_len = 2\n",
    "\n",
    "## Stats overview\n",
    "key = soup.findAll(True,{'nova-e-text nova-e-text--size-m nova-e-text--family-sans-serif nova-e-text--spacing-xxs nova-e-text--color-inherit'})\n",
    "val = soup.findAll(True,{'nova-e-text nova-e-text--size-xl nova-e-text--family-sans-serif nova-e-text--spacing-xxs nova-e-text--color-inherit'})\n",
    "for i in range(curr_len,curr_len+len(val)):\n",
    "    worksheet.write(i,0,name)\n",
    "    worksheet.write(i,1,Overview[1].text)\n",
    "    worksheet.write(i,2,key[i-curr_len].text)\n",
    "    worksheet.write(i,3,val[i-curr_len].text.replace(',',''))\n",
    "curr_len += len(val)\n",
    "\n",
    "## Affiliation\n",
    "key = soup.findAll(True,{'nova-e-text nova-e-text--size-l nova-e-text--family-sans-serif nova-e-text--spacing-none nova-e-text--color-grey-600'})\n",
    "val = soup.findAll(True,{'nova-e-text nova-e-text--size-l nova-e-text--family-sans-serif nova-e-text--spacing-none nova-e-text--color-inherit nova-v-institution-item__title'})\n",
    "for i in range(curr_len,curr_len+len(val)):\n",
    "    worksheet.write(i,0,name)\n",
    "    worksheet.write(i,1,Overview[2].text)\n",
    "    worksheet.write(i,2,key[i-curr_len].text)\n",
    "    worksheet.write(i,3,val[i-curr_len].text)\n",
    "curr_len += len(val)\n",
    "\n",
    "## Research overview\n",
    "key = soup.findAll(True,{'nova-e-text nova-e-text--size-m nova-e-text--family-sans-serif nova-e-text--spacing-none nova-e-text--color-inherit'})\n",
    "val = soup.findAll(True,{'nova-e-text nova-e-text--size-xl nova-e-text--family-sans-serif nova-e-text--spacing-none nova-e-text--color-inherit'})\n",
    "for i in range(curr_len,curr_len+len(val)):\n",
    "    worksheet.write(i,0,name)\n",
    "    worksheet.write(i,1,Overview[5].text)\n",
    "    worksheet.write(i,2,key[i-curr_len+3].text)\n",
    "    worksheet.write(i,3,val[i-curr_len].text)\n",
    "curr_len += len(val)\n",
    "\n",
    "# Sheet 2: Skills & Expertise\n",
    "worksheet = workbook.add_worksheet('Skills & Expertise')\n",
    "val = ['Name','SEQ','Item']\n",
    "for i in range(len(val)): worksheet.write(0,i,val[i],workbook.add_format({'bold':True,'center_across':True}))\n",
    "val = bs(session.get(url +'/info').text).findAll(True,{'nova-e-badge nova-e-badge--color-grey nova-e-badge--display-block nova-e-badge--luminosity-medium nova-e-badge--size-l nova-e-badge--theme-ghost nova-e-badge--radius-full'})\n",
    "for i in range(1,1 +len(val)):\n",
    "    worksheet.write(i,0,name)\n",
    "    worksheet.write(i,1,i)\n",
    "    worksheet.write(i,2,val[i-1].text)\n",
    "\n",
    "# Sheet 3: Co Author\n",
    "worksheet = workbook.add_worksheet('Co Author')\n",
    "val = ['Name','Co Author','RG Score']\n",
    "for i in range(len(val)):\n",
    "    worksheet.write(0,i,val[i],workbook.add_format({'bold':True,'center_across':True}))\n",
    "val = soup.findAll(True,{'nova-e-link nova-e-link--color-inherit nova-e-link--theme-bare'})\n",
    "for i in range(1,1 + 5):\n",
    "    worksheet.write(i,0,name)\n",
    "    worksheet.write(i,1,val[i*2+5].text)\n",
    "    worksheet.write(i,2,val[i*2+6].text)\n",
    "\n",
    "workbook.close()"
   ]
  },
  {
   "cell_type": "code",
   "execution_count": null,
   "metadata": {},
   "outputs": [],
   "source": []
  }
 ],
 "metadata": {
  "kernelspec": {
   "display_name": "Python 3",
   "language": "python",
   "name": "python3"
  },
  "language_info": {
   "codemirror_mode": {
    "name": "ipython",
    "version": 3
   },
   "file_extension": ".py",
   "mimetype": "text/x-python",
   "name": "python",
   "nbconvert_exporter": "python",
   "pygments_lexer": "ipython3",
   "version": "3.7.3"
  }
 },
 "nbformat": 4,
 "nbformat_minor": 2
}
