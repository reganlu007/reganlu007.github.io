{
 "cells": [
  {
   "cell_type": "markdown",
   "metadata": {},
   "source": [
    "# 單頁爬蟲"
   ]
  },
  {
   "cell_type": "code",
   "execution_count": 1,
   "metadata": {
    "scrolled": true
   },
   "outputs": [
    {
     "name": "stdout",
     "output_type": "stream",
     "text": [
      "https://www.ptt.cc/bbs/Koei/M.1555243633.A.98C.html [三二] 叛節公式一覽\n",
      "https://www.ptt.cc/bbs/Koei/M.1555343183.A.E88.html [其他] 請推薦 信長遊戲系列...\n",
      "https://www.ptt.cc/bbs/Koei/M.1555344160.A.7F4.html [三二] 登用公式一覽\n",
      "https://www.ptt.cc/bbs/Koei/M.1555385396.A.93A.html [賽馬] 親系統成立\n",
      "https://www.ptt.cc/bbs/Koei/M.1555388054.A.6D6.html [天道] 信長元服，長尾一年滅武田+甲府集中營 \n",
      "https://www.ptt.cc/bbs/Koei/M.1555389943.A.027.html Re: [三二] 登用公式一覽\n",
      "https://www.ptt.cc/bbs/Koei/M.1555424392.A.54C.html Re: [三國] 三11-城市聯防，割據心得(三)\n",
      "https://www.ptt.cc/bbs/Koei/M.1555481583.A.68E.html Re: [其他] 請推薦 信長遊戲系列...\n",
      "https://www.ptt.cc/bbs/Koei/M.1555492529.A.68E.html Re: [其他] 請推薦 信長遊戲系列...\n",
      "https://www.ptt.cc/bbs/Koei/M.1555519027.A.50E.html [三二] 勸降公式一覽\n",
      "https://www.ptt.cc/bbs/Koei/M.1259505063.A.648.html [公告] Koei 板規（2015/09/27 更新）\n",
      "https://www.ptt.cc/bbs/Koei/M.1335661836.A.E79.html Fw: [太閣][互動] 國軍立志傳3 - 外島篇\n",
      "https://www.ptt.cc/bbs/Koei/M.1456652378.A.E18.html [三國]解決WIN10更新KB3086255後跑不動的問題\n",
      "https://www.ptt.cc/bbs/Koei/M.1479695015.A.04A.html [公告] 置底聊天文\n",
      "https://www.ptt.cc/bbs/Koei/M.1551278398.A.B8E.html [三二] 208年 劉備開局取天下：劉備入蜀\n"
     ]
    }
   ],
   "source": [
    "import requests\n",
    "from bs4 import BeautifulSoup as bs\n",
    "\n",
    "r    = requests.get(\"https://www.ptt.cc/bbs/koei/index.html\") #將網頁資料GET下來\n",
    "soup = bs(r.text) #將網頁資料以 html.parser\n",
    "sel  = soup.select(\"div.title a\") #取HTML標中的 <div class=\"title\"></div> 中的<a>標籤存入sel\n",
    "for s in sel: print(\"https://www.ptt.cc\"+s[\"href\"], s.text) #印出網址跟標題"
   ]
  },
  {
   "cell_type": "markdown",
   "metadata": {},
   "source": [
    "# 跨頁爬蟲\n",
    "## 最後一行縮排之後，即可多頁爬蟲"
   ]
  },
  {
   "cell_type": "code",
   "execution_count": 2,
   "metadata": {},
   "outputs": [
    {
     "name": "stdout",
     "output_type": "stream",
     "text": [
      "本頁的 URL 為 https://www.ptt.cc/bbs/koei/index.html\n",
      "本頁的 URL 為 https://www.ptt.cc/bbs/Koei/index1160.html\n",
      "本頁的 URL 為 https://www.ptt.cc/bbs/Koei/index1159.html\n",
      "https://www.ptt.cc/bbs/Koei/M.1553697047.A.B6A.html [問題] dos 版水滸傳 天命之誓 無法播放音樂\n",
      "https://www.ptt.cc/bbs/Koei/M.1553785232.A.E1A.html [三國] 為啥武將有時不跟著有關係的人物自動登場\n",
      "https://www.ptt.cc/bbs/Koei/M.1553845332.A.DDE.html [三國] 重玩三國志2的一些感想\n",
      "https://www.ptt.cc/bbs/Koei/M.1553864287.A.41E.html Re: [三國] 重玩三國志2的一些感想\n",
      "https://www.ptt.cc/bbs/Koei/M.1553868499.A.E4A.html [信長] 信長之野望36週年!\n",
      "https://www.ptt.cc/bbs/Koei/M.1553871903.A.2DE.html Re: [成吉] 發布成吉思汗4威力加強擴充版：揚塵\n",
      "https://www.ptt.cc/bbs/Koei/M.1553913714.A.D15.html [三國] 為何<三國志2>的夏侯家一族成員非雜魚臉?\n",
      "https://www.ptt.cc/bbs/Koei/M.1553941813.A.8C6.html [其他] steam購買天道的序號問題\n",
      "https://www.ptt.cc/bbs/Koei/M.1554026866.A.487.html Re: [三國][分享] dos 三國志 2 hex 查詢網站\n",
      "https://www.ptt.cc/bbs/Koei/M.1554125489.A.DDB.html [三國] <三國志2>的盟國思維讓人猜不透\n",
      "https://www.ptt.cc/bbs/Koei/M.1554130666.A.662.html [其他]今年的愚人節應景題材\n",
      "https://www.ptt.cc/bbs/Koei/M.1554138117.A.826.html [成吉] 沒佔領日本 卻能徵僧兵? \n",
      "https://www.ptt.cc/bbs/Koei/M.1554173881.A.96C.html [其他] 超任版英傑傳不收人過關\n",
      "https://www.ptt.cc/bbs/Koei/M.1554213454.A.3AE.html [三國] 搶救呂布大作戰(上)\n",
      "https://www.ptt.cc/bbs/Koei/M.1554272518.A.EDC.html [其他] 如果穿梭到水滸108世界開局 你會挑誰創業\n",
      "https://www.ptt.cc/bbs/Koei/M.1554293492.A.FEB.html [公告] 關於發文的簽名檔\n",
      "https://www.ptt.cc/bbs/Koei/M.1554300136.A.9B6.html [社訊] 2020大學新鮮人招募影片\n",
      "https://www.ptt.cc/bbs/Koei/M.1554307127.A.BC9.html [三國] <三國志2>的臥底BUG\n",
      "https://www.ptt.cc/bbs/Koei/M.1554400214.A.B64.html [其他] 水滸傳天命之誓心得\n",
      "https://www.ptt.cc/bbs/Koei/M.1554400934.A.B77.html [三國] dos 三國志 2 選擇全君主遊玩\n"
     ]
    }
   ],
   "source": [
    "import requests\n",
    "from bs4 import BeautifulSoup as bs\n",
    "url = \"https://www.ptt.cc/bbs/koei/index.html\"\n",
    "for i in range(3): #往上爬3頁\n",
    "    r    = requests.get(url)\n",
    "    soup = bs(r.text)\n",
    "    sel  = soup.select(\"div.title a\") #標題\n",
    "    u    = soup.select(\"div.btn-group.btn-group-paging a\") #a標籤\n",
    "    print (\"本頁的 URL 為 \"+url)\n",
    "    url  = \"https://www.ptt.cc\"+ u[1][\"href\"] #上一頁的網址\n",
    "for s in sel: print(\"https://www.ptt.cc\"+s[\"href\"], s.text) #印出網址跟標題"
   ]
  }
 ],
 "metadata": {
  "kernelspec": {
   "display_name": "Python 3",
   "language": "python",
   "name": "python3"
  },
  "language_info": {
   "codemirror_mode": {
    "name": "ipython",
    "version": 3
   },
   "file_extension": ".py",
   "mimetype": "text/x-python",
   "name": "python",
   "nbconvert_exporter": "python",
   "pygments_lexer": "ipython3",
   "version": "3.7.3"
  }
 },
 "nbformat": 4,
 "nbformat_minor": 2
}
